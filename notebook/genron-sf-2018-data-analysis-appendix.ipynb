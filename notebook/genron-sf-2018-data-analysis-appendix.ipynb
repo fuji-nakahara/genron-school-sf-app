{
 "cells": [
  {
   "cell_type": "markdown",
   "metadata": {},
   "source": [
    "# データで見る ゲンロン 大森望 SF創作講座 2018 付録"
   ]
  },
  {
   "cell_type": "code",
   "execution_count": 1,
   "metadata": {},
   "outputs": [],
   "source": [
    "import pandas as pd\n",
    "import seaborn as sns"
   ]
  },
  {
   "cell_type": "code",
   "execution_count": 2,
   "metadata": {},
   "outputs": [],
   "source": [
    "%config InlineBackend.figure_formats = {'png', 'retina'}\n",
    "sns.set()"
   ]
  },
  {
   "cell_type": "code",
   "execution_count": 3,
   "metadata": {
    "scrolled": true
   },
   "outputs": [
    {
     "data": {
      "text/plain": [
       "'Connected: fuji-nakahara@genron-school-sf-app_development'"
      ]
     },
     "execution_count": 3,
     "metadata": {},
     "output_type": "execute_result"
    }
   ],
   "source": [
    "%config SqlMagic.autopandas = True\n",
    "%config SqlMagic.feedback = False\n",
    "%load_ext sql\n",
    "%sql postgresql://fuji-nakahara@localhost/genron-school-sf-app_development"
   ]
  },
  {
   "cell_type": "code",
   "execution_count": 4,
   "metadata": {},
   "outputs": [],
   "source": [
    "term_id = 2018"
   ]
  },
  {
   "cell_type": "code",
   "execution_count": 5,
   "metadata": {},
   "outputs": [
    {
     "name": "stdout",
     "output_type": "stream",
     "text": [
      "2019-03-28 22:21:45.852955\n"
     ]
    }
   ],
   "source": [
    "from datetime import datetime\n",
    "print(datetime.now())"
   ]
  },
  {
   "cell_type": "markdown",
   "metadata": {},
   "source": [
    "## 文字数のレンジごとの梗概選出率比較"
   ]
  },
  {
   "cell_type": "markdown",
   "metadata": {},
   "source": [
    "> 文字数のところ、梗概全体だと500文字以下などもありますし、1000～1999まで200文字ずつ切ったゾーンと2000～のゾーン、計6個のゾーンで該当梗概の選出割合を出してみるのもまたありかと思います。"
   ]
  },
  {
   "cell_type": "code",
   "execution_count": 6,
   "metadata": {},
   "outputs": [
    {
     "name": "stdout",
     "output_type": "stream",
     "text": [
      " * postgresql://fuji-nakahara@localhost/genron-school-sf-app_development\n",
      "Returning data to local variable synopses_character_counts\n"
     ]
    }
   ],
   "source": [
    "%%sql synopses_character_counts <<\n",
    "\n",
    "select\n",
    "    s.number\n",
    "    , sy.title\n",
    "    , st.name as author\n",
    "    , sy.character_count\n",
    "    , sy.appeal_character_count\n",
    "    , sy.selected\n",
    "from\n",
    "    subjects s\n",
    "    join synopses sy on s.id = sy.subject_id\n",
    "    join students st on sy.student_id = st.id\n",
    "where\n",
    "    s.term_id = :term_id\n",
    "    and s.number <= 9\n",
    "order by\n",
    "    1"
   ]
  },
  {
   "cell_type": "code",
   "execution_count": 7,
   "metadata": {},
   "outputs": [],
   "source": [
    "selected_synopses_character_counts = synopses_character_counts[synopses_character_counts.selected]"
   ]
  },
  {
   "cell_type": "code",
   "execution_count": 8,
   "metadata": {},
   "outputs": [],
   "source": [
    "bins = [0, 1000, 1200, 1400, 1600, 1800, 2000, synopses_character_counts.character_count.max()]"
   ]
  },
  {
   "cell_type": "code",
   "execution_count": 9,
   "metadata": {
    "scrolled": true
   },
   "outputs": [],
   "source": [
    "grouped_character_counts = pd.DataFrame({\n",
    "    'synopses_count': synopses_character_counts \\\n",
    "        .character_count.groupby(pd.cut(synopses_character_counts.character_count, bins)).count(),\n",
    "    'selected_synopses_count': selected_synopses_character_counts \\\n",
    "        .character_count.groupby(pd.cut(selected_synopses_character_counts.character_count, bins)).count()\n",
    "})"
   ]
  },
  {
   "cell_type": "code",
   "execution_count": 10,
   "metadata": {},
   "outputs": [],
   "source": [
    "grouped_character_counts['selected_rate'] = grouped_character_counts.selected_synopses_count / grouped_character_counts.synopses_count"
   ]
  },
  {
   "cell_type": "code",
   "execution_count": 11,
   "metadata": {},
   "outputs": [
    {
     "data": {
      "text/html": [
       "<div>\n",
       "<style scoped>\n",
       "    .dataframe tbody tr th:only-of-type {\n",
       "        vertical-align: middle;\n",
       "    }\n",
       "\n",
       "    .dataframe tbody tr th {\n",
       "        vertical-align: top;\n",
       "    }\n",
       "\n",
       "    .dataframe thead th {\n",
       "        text-align: right;\n",
       "    }\n",
       "</style>\n",
       "<table border=\"1\" class=\"dataframe\">\n",
       "  <thead>\n",
       "    <tr style=\"text-align: right;\">\n",
       "      <th></th>\n",
       "      <th>synopses_count</th>\n",
       "      <th>selected_synopses_count</th>\n",
       "      <th>selected_rate</th>\n",
       "    </tr>\n",
       "    <tr>\n",
       "      <th>character_count</th>\n",
       "      <th></th>\n",
       "      <th></th>\n",
       "      <th></th>\n",
       "    </tr>\n",
       "  </thead>\n",
       "  <tbody>\n",
       "    <tr>\n",
       "      <th>(0, 1000]</th>\n",
       "      <td>6</td>\n",
       "      <td>0</td>\n",
       "      <td>0.000000</td>\n",
       "    </tr>\n",
       "    <tr>\n",
       "      <th>(1000, 1200]</th>\n",
       "      <td>98</td>\n",
       "      <td>10</td>\n",
       "      <td>0.102041</td>\n",
       "    </tr>\n",
       "    <tr>\n",
       "      <th>(1200, 1400]</th>\n",
       "      <td>57</td>\n",
       "      <td>5</td>\n",
       "      <td>0.087719</td>\n",
       "    </tr>\n",
       "    <tr>\n",
       "      <th>(1400, 1600]</th>\n",
       "      <td>35</td>\n",
       "      <td>7</td>\n",
       "      <td>0.200000</td>\n",
       "    </tr>\n",
       "    <tr>\n",
       "      <th>(1600, 1800]</th>\n",
       "      <td>24</td>\n",
       "      <td>3</td>\n",
       "      <td>0.125000</td>\n",
       "    </tr>\n",
       "    <tr>\n",
       "      <th>(1800, 2000]</th>\n",
       "      <td>17</td>\n",
       "      <td>3</td>\n",
       "      <td>0.176471</td>\n",
       "    </tr>\n",
       "    <tr>\n",
       "      <th>(2000, 3714]</th>\n",
       "      <td>23</td>\n",
       "      <td>5</td>\n",
       "      <td>0.217391</td>\n",
       "    </tr>\n",
       "  </tbody>\n",
       "</table>\n",
       "</div>"
      ],
      "text/plain": [
       "                 synopses_count  selected_synopses_count  selected_rate\n",
       "character_count                                                        \n",
       "(0, 1000]                     6                        0       0.000000\n",
       "(1000, 1200]                 98                       10       0.102041\n",
       "(1200, 1400]                 57                        5       0.087719\n",
       "(1400, 1600]                 35                        7       0.200000\n",
       "(1600, 1800]                 24                        3       0.125000\n",
       "(1800, 2000]                 17                        3       0.176471\n",
       "(2000, 3714]                 23                        5       0.217391"
      ]
     },
     "execution_count": 11,
     "metadata": {},
     "output_type": "execute_result"
    }
   ],
   "source": [
    "grouped_character_counts"
   ]
  },
  {
   "cell_type": "markdown",
   "metadata": {},
   "source": [
    "なんと、もっとも梗概選出率が高いのは2000字よりも多いグループだった。  \n",
    "ついで1400〜1600字のグループで、約2割の選出率。  \n",
    "1000文字以下の選出率は0でもっとも低く、ついで1200〜1400字のグループ。  \n",
    "1000〜1200字は1200〜1400時よりも高いので、少し字数を超えるくらいならがんばって1200字以下に抑えたほうがよいかもしれない。"
   ]
  }
 ],
 "metadata": {
  "kernelspec": {
   "display_name": "Python 3",
   "language": "python",
   "name": "python3"
  },
  "language_info": {
   "codemirror_mode": {
    "name": "ipython",
    "version": 3
   },
   "file_extension": ".py",
   "mimetype": "text/x-python",
   "name": "python",
   "nbconvert_exporter": "python",
   "pygments_lexer": "ipython3",
   "version": "3.7.2"
  }
 },
 "nbformat": 4,
 "nbformat_minor": 2
}
